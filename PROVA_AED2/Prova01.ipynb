{
 "cells": [
  {
   "cell_type": "code",
   "execution_count": 47,
   "id": "d482e94c-414c-446a-a38a-c917d6022d1e",
   "metadata": {},
   "outputs": [],
   "source": [
    "class No:\n",
    "    def __init__(self, valor):\n",
    "        self.valor = valor\n",
    "        self.proximo = None\n",
    "\n",
    "class ListaEncadeada:\n",
    "    def __init__(self):\n",
    "        self.inicio = None\n",
    "\n",
    "    def inserir(self,valor):\n",
    "        novo_no = No(valor)\n",
    "        if self.inicio is None:\n",
    "            self.inicio = novo_no\n",
    "        else:\n",
    "            atual = self.inicio\n",
    "            while atual.proximo:\n",
    "                atual = atual.proximo\n",
    "            atual.proximo = novo_no\n",
    "\n",
    "    def contar(self):\n",
    "        contagem = 1\n",
    "        if self.inicio == None:\n",
    "            return 0\n",
    "        else:\n",
    "            atual = self.inicio\n",
    "            while atual.proximo:\n",
    "                contagem += 1\n",
    "                atual = atual.proximo\n",
    "            return contagem\n",
    "        "
   ]
  },
  {
   "cell_type": "code",
   "execution_count": 48,
   "id": "309647e6-5231-41c9-91ad-7a739977a44c",
   "metadata": {},
   "outputs": [],
   "source": [
    "lista = ListaEncadeada()"
   ]
  },
  {
   "cell_type": "code",
   "execution_count": 49,
   "id": "464ff3c2-c2bb-4469-ba69-e1255623dea0",
   "metadata": {},
   "outputs": [],
   "source": [
    "lista.inserir(5)\n",
    "lista.inserir(15)\n",
    "lista.inserir(25)\n",
    "lista.inserir(25)\n",
    "lista.inserir(25)"
   ]
  },
  {
   "cell_type": "code",
   "execution_count": 50,
   "id": "14750d7b-da31-426f-a59b-10487830d951",
   "metadata": {},
   "outputs": [
    {
     "data": {
      "text/plain": [
       "5"
      ]
     },
     "execution_count": 50,
     "metadata": {},
     "output_type": "execute_result"
    }
   ],
   "source": [
    "lista.contar()"
   ]
  }
 ],
 "metadata": {
  "kernelspec": {
   "display_name": "Python 3 (ipykernel)",
   "language": "python",
   "name": "python3"
  },
  "language_info": {
   "codemirror_mode": {
    "name": "ipython",
    "version": 3
   },
   "file_extension": ".py",
   "mimetype": "text/x-python",
   "name": "python",
   "nbconvert_exporter": "python",
   "pygments_lexer": "ipython3",
   "version": "3.12.4"
  }
 },
 "nbformat": 4,
 "nbformat_minor": 5
}
